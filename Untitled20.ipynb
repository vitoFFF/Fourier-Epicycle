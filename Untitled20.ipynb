{
  "nbformat": 4,
  "nbformat_minor": 0,
  "metadata": {
    "colab": {
      "name": "Untitled20.ipynb",
      "provenance": [],
      "authorship_tag": "ABX9TyNJYcpCESTDsUNGyMkRYJbW",
      "include_colab_link": true
    },
    "kernelspec": {
      "name": "python3",
      "display_name": "Python 3"
    },
    "language_info": {
      "name": "python"
    }
  },
  "cells": [
    {
      "cell_type": "markdown",
      "metadata": {
        "id": "view-in-github",
        "colab_type": "text"
      },
      "source": [
        "<a href=\"https://colab.research.google.com/github/vitoFFF/Fourier-Epicycle/blob/main/Untitled20.ipynb\" target=\"_parent\"><img src=\"https://colab.research.google.com/assets/colab-badge.svg\" alt=\"Open In Colab\"/></a>"
      ]
    },
    {
      "cell_type": "code",
      "metadata": {
        "colab": {
          "base_uri": "https://localhost:8080/",
          "height": 265
        },
        "id": "Dd-S2AnZFRty",
        "outputId": "dbdeab55-16b4-4cb9-ed7c-8e27de16b87c"
      },
      "source": [
        "import matplotlib.pyplot as plt\n",
        "import numpy as np\n",
        "from numpy import *\n",
        "import matplotlib.animation as animation\n",
        "\n",
        "ampList = [6,4,2,1,0.2]\n",
        "phaseList = [0,0,0,0,0]\n",
        "freqList = [6,4,3,2,0.1]\n",
        "fig, ax = plt.subplots()\n",
        "C_x = 0\n",
        "C_y = 0\n",
        "\n",
        "#for lines\n",
        "cx = [0]\n",
        "cy = [0]\n",
        "theta_time = 0\n",
        "\n",
        "for freq,amp, phase in zip(freqList,ampList, phaseList):\n",
        "    circle = plt.Circle((C_x, C_y), amp, fill = False)\n",
        "    ax.add_patch(circle)\n",
        "    C_x += amp*np.cos(freq * theta_time + np.deg2rad(phase))\n",
        "    C_y += amp*np.sin(freq * theta_time + np.deg2rad(phase))\n",
        "    cx.append(C_x)\n",
        "    cy.append(C_y)\n",
        "\n",
        "plt.scatter(cx,cy)\n",
        "plt.plot(cx, cy, '.r-',linewidth=1)    \n",
        "plt.axis(\"equal\")\n",
        "plt.xlim( -20 , 20 )\n",
        "plt.ylim( -20 , 20 )\n",
        "plt.show()"
      ],
      "execution_count": 1,
      "outputs": [
        {
          "output_type": "display_data",
          "data": {
            "image/png": "[encoded data removed]",
            "text/plain": [
              "<Figure size 432x288 with 1 Axes>"
            ]
          },
          "metadata": {
            "needs_background": "light"
          }
        }
      ]
    }
  ]
}